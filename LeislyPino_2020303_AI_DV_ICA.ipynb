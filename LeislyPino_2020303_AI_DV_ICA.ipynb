{
 "cells": [
  {
   "cell_type": "markdown",
   "id": "c70a4967",
   "metadata": {},
   "source": [
    "<img src=https://www.cct.ie/wp-content/uploads/CCT_Logo_New_Aug_17-2.jpg alt=\"drawing\" style=\"width:600px;\"/>\n",
    "\n",
    "<div style=\"text-align: center\">\n",
    "\n",
    "## CCT College Dublin Continuous Assessment\n",
    "\n",
    "---\n",
    "\n",
    "**Programme Title/Year:**  \tBSc Computing in IT Y4\n",
    "\n",
    "**Module Title:**\tArtificial Intelligence & Data Visualization and Communication\n",
    "\n",
    "**Lecturer Name:**\tDavid McQuaid & Sam Weiss\n",
    "\n",
    "**Assessment Title:**\tFinal Integrated CA\n",
    "\n",
    "**Assessment Type:**\tIndividual \n",
    "\n",
    "**Assessment Weighting:** 40% (AI) & 50% (DVC)\n",
    "\n",
    "**Student Name:**\tLeisly Pino\n",
    "\n",
    "**Student Numbers:**\t2020303\n",
    "\n",
    "**Assessment Due Date:**\t5th January 2024\n",
    "\n",
    "**Date of Submission:**\t5th January 2024\n",
    "\n",
    "---\n",
    "**Declaration** \n",
    "    \n",
    "<div style=\"text-align: justify\">\t\t\t\n",
    "By submitting this assessment, I confirm that I have read the CCT policy on Academic Misconduct and understand the implications of submitting work that is not my own or does not appropriately reference material taken from a third party or other source. I declare it to be my own work and that all material from third parties has been appropriately referenced. I further confirm that this work has not previously been submitted for assessment by myself or someone else in CCT College Dublin or any other higher education institution.\n"
   ]
  },
  {
   "cell_type": "code",
   "execution_count": null,
   "id": "45f86a0c",
   "metadata": {},
   "outputs": [],
   "source": []
  }
 ],
 "metadata": {
  "kernelspec": {
   "display_name": "Python 3 (ipykernel)",
   "language": "python",
   "name": "python3"
  },
  "language_info": {
   "codemirror_mode": {
    "name": "ipython",
    "version": 3
   },
   "file_extension": ".py",
   "mimetype": "text/x-python",
   "name": "python",
   "nbconvert_exporter": "python",
   "pygments_lexer": "ipython3",
   "version": "3.10.9"
  }
 },
 "nbformat": 4,
 "nbformat_minor": 5
}
