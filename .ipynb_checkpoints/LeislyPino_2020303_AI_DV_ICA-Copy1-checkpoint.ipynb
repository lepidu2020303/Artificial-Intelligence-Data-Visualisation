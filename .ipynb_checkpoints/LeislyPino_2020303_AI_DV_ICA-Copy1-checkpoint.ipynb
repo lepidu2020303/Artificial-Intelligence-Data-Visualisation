{
 "cells": [
  {
   "cell_type": "markdown",
   "id": "f593bbbf",
   "metadata": {},
   "source": [
    "<img src=https://www.cct.ie/wp-content/uploads/CCT_Logo_New_Aug_17-2.jpg alt=\"drawing\" style=\"width:600px;\"/>\n",
    "\n",
    "<div style=\"text-align: center\">\n",
    "\n",
    "## CCT College Dublin Continuous Assessment\n",
    "\n",
    "---\n",
    "\n",
    "**Programme Title/Year:**  \tBSc Computing in IT Y4\n",
    "\n",
    "**Module Title:**\tArtificial Intelligence & Data Visualization and Communication\n",
    "\n",
    "**Lecturer Name:**\tDavid McQuaid & Sam Weiss\n",
    "\n",
    "**Assessment Title:**\tFinal Integrated CA\n",
    "\n",
    "**Assessment Type:**\tIndividual \n",
    "\n",
    "**Assessment Weighting:** 40% (AI) & 50% (DVC)\n",
    "\n",
    "**Student Name:**\tLeisly Pino\n",
    "\n",
    "**Student Numbers:**\t2020303\n",
    "\n",
    "**Assessment Due Date:**\t5th January 2024\n",
    "\n",
    "**Date of Submission:**\t10th January 2024\n",
    "\n",
    "---\n",
    "**Declaration** \n",
    "    \n",
    "<div style=\"text-align: justify\">\t\t\t\n",
    "By submitting this assessment, I confirm that I have read the CCT policy on Academic Misconduct and understand the implications of submitting work that is not my own or does not appropriately reference material taken from a third party or other source. I declare it to be my own work and that all material from third parties has been appropriately referenced. I further confirm that this work has not previously been submitted for assessment by myself or someone else in CCT College Dublin or any other higher education institution.\n"
   ]
  },
  {
   "cell_type": "markdown",
   "id": "47a517bd",
   "metadata": {},
   "source": [
    "---\n",
    "### Tasks for Artificial Intelligence\n",
    "\n",
    "Ciara is looking for employees for her new company, which develops and provides AI based logistic software for retailers. Ciara has determined that she needs:\n",
    "\n",
    "2 Python Programmers, 2 AI Engineers, 1 Web Designer, 1 Database Admin, and 1 Systems Engineer.\n",
    "Assume that if a person has two abilities, he or she can take on two roles in the company.\n",
    "\n",
    "So Ciara narrowed down her selections to the following people:\n",
    " \t\n",
    "| Name | Abilities |\n",
    "| -- | -- |\n",
    "| Peter | Python and AI |\n",
    "| Juan | Web and AI |\n",
    "| Jim | AI and Systems |\n",
    "| Jane | Python and Database |\n",
    "| Mary | Web and Systems |\n",
    "| Bruce | Systems and Python |\n",
    "| Anita | Web and AI |\n",
    "\n",
    "**Scenario 1:**\n",
    "\n",
    "Suppose Ciara knows Python, and only has funds to hire three more people."
   ]
  },
  {
   "cell_type": "markdown",
   "id": "f662f89c",
   "metadata": {},
   "source": [
    "In this scenario Ciara needs:\n",
    "\n",
    "1 Python Programmers, 2 AI Engineers, 1 Web Designer, 1 Database Admin, and 1 Systems Engineer."
   ]
  },
  {
   "cell_type": "code",
   "execution_count": 1,
   "id": "776080d6",
   "metadata": {},
   "outputs": [],
   "source": [
    "from ortools.sat.python import cp_model\n",
    "from itertools import combinations"
   ]
  },
  {
   "cell_type": "code",
   "execution_count": 9,
   "id": "8ff7272d",
   "metadata": {},
   "outputs": [],
   "source": [
    "def PeopleConstraint(assignment, start_index=0):\n",
    "    if len(assignment) == 3 and satisfied(assignment):\n",
    "        return [sorted(assignment)] \n",
    "    else:\n",
    "        result = []\n",
    "        for person in variables.keys():\n",
    "            if person not in assignment:\n",
    "                result.extend(PeopleConstraint(assignment + [person], start_index))\n",
    "        return result\n",
    "\n",
    "def satisfied(combination):\n",
    "    combined_skills = [skill for person in combination for skill in peopleAbilities.get(person, [])]\n",
    "    return all(skill in combined_skills for skill in domains) and \\\n",
    "           sum(\"AI\" in peopleAbilities[person] for person in combination) >= 2\n"
   ]
  },
  {
   "cell_type": "code",
   "execution_count": null,
   "id": "246eaa20",
   "metadata": {},
   "outputs": [],
   "source": [
    "peopleAbilities = {\n",
    "    \"Ciara\": [\"Python\"],\n",
    "    \"Peter\": [\"Python\", \"AI\"],\n",
    "    \"Juan\": [\"Web\", \"AI\"],\n",
    "    \"Jim\": [\"AI\", \"Systems\"],\n",
    "    \"Jane\": [\"Python\", \"Database\"],\n",
    "    \"Mary\": [\"Web\", \"Systems\"],\n",
    "    \"Bruce\": [\"Systems\", \"Python\"],\n",
    "    \"Anita\": [\"Web\", \"AI\"]\n",
    "}\n",
    "\n",
    "domains = [\"Python\", \"AI\", \"Web\", \"Database\", \"Systems\"]"
   ]
  },
  {
   "cell_type": "code",
   "execution_count": 10,
   "id": "ac307904",
   "metadata": {},
   "outputs": [
    {
     "name": "stdout",
     "output_type": "stream",
     "text": [
      "Combination:\n",
      "Anita\n",
      "Jane\n",
      "Jim\n",
      "\n",
      "Combination:\n",
      "Jane\n",
      "Jim\n",
      "Juan\n",
      "\n"
     ]
    }
   ],
   "source": [
    "csp = cp_model.CpModel()\n",
    "\n",
    "variables = {person: csp.NewBoolVar(person) for person in peopleAbilities}\n",
    "\n",
    "csp.Add(sum(variables.values()) == 3)\n",
    "\n",
    "\n",
    "csp.Add(variables[\"Ciara\"] == 1)\n",
    "\n",
    "for skill in domains:\n",
    "    csp.Add(sum(variables[person] for person, skills in peopleAbilities.items() if skill in skills) >= 1)"
   ]
  },
  {
   "cell_type": "code",
   "execution_count": null,
   "id": "372a9a3b",
   "metadata": {},
   "outputs": [],
   "source": [
    "unique_combinations = set(map(tuple, PeopleConstraint([])))\n",
    "for combination in unique_combinations:\n",
    "    print(\"Combination:\")\n",
    "    for person in combination:\n",
    "        print(person)\n",
    "    print()"
   ]
  },
  {
   "cell_type": "code",
   "execution_count": null,
   "id": "a1dff01a",
   "metadata": {},
   "outputs": [],
   "source": []
  },
  {
   "cell_type": "markdown",
   "id": "544a43a8",
   "metadata": {},
   "source": [
    "**Scenario 2:**\n",
    "\n",
    "Suppose Ciara and Juan become partners, with the additional funds they can now employ four more people but must employ another AI Engineer, so they need 2 Python Programmers, 3 AI Engineers, 1 Web Designer, 1 Database Admin, and 1 Systems Engineer."
   ]
  },
  {
   "cell_type": "code",
   "execution_count": null,
   "id": "d8960af9",
   "metadata": {},
   "outputs": [],
   "source": [
    "# List for the people and their skills\n",
    "people_skills = {\n",
    "    \"Ciara\": [\"Python\"],\n",
    "    \"Peter\": [\"Python\", \"AI\"],\n",
    "    \"Juan\": [\"Web\", \"AI\"],\n",
    "    \"Jim\": [\"AI\", \"Systems\"],\n",
    "    \"Jane\": [\"Python\", \"Database\"],\n",
    "    \"Mary\": [\"Web\", \"Systems\"],\n",
    "    \"Bruce\": [\"Systems\", \"Python\"],\n",
    "    \"Anita\": [\"Web\", \"AI\"]\n",
    "}\n",
    "\n",
    "# List desired skills\n",
    "list_skills = [\"Python\", \"AI\", \"Web\", \"Database\", \"Systems\"]\n",
    "\n",
    "# Create the CP-SAT model\n",
    "model = cp_model.CpModel()\n",
    "\n",
    "# Variables: 0 if not selected, 1 if selected\n",
    "variables = {person: model.NewBoolVar(person) for person in people_skills}\n",
    "\n",
    "# Constraint: Select exactly 4 people (besides Ciara and Juan)\n",
    "model.Add(sum(variables.values()) == 4)\n",
    "\n",
    "# Constraint: Ciara and Juan must be selected\n",
    "model.Add(variables[\"Ciara\"] == 1)\n",
    "model.Add(variables[\"Juan\"] == 1)\n",
    "\n",
    "# Constraint: Ensure all skills are covered\n",
    "for skill in list_skills:\n",
    "    model.Add(sum(variables[person] for person, skills in people_skills.items() if skill in skills) >= 1)\n",
    "\n",
    "# Backtracking function with constraint checking\n",
    "def backtrack(assignment, start_index=0):\n",
    "    if len(assignment) == 4 and satisfies_constraints(assignment):\n",
    "        return [sorted(assignment)]  # Sort the combination\n",
    "    else:\n",
    "        result = []\n",
    "        for person in variables.keys():\n",
    "            if person not in assignment:\n",
    "                result.extend(backtrack(assignment + [person], start_index))\n",
    "        return result\n",
    "\n",
    "# Constraint satisfaction function\n",
    "def satisfies_constraints(combination):\n",
    "    combined_skills = [skill for person in combination for skill in people_skills.get(person, [])]\n",
    "    return all(skill in combined_skills for skill in list_skills) and \\\n",
    "           sum(\"AI\" in people_skills[person] for person in combination) == 3 and \\\n",
    "           sum(\"Python\" in people_skills[person] for person in combination) == 2\n",
    "         \n",
    "\n",
    "# Print unique combinations generated by backtracking\n",
    "unique_combinations = set(map(tuple, backtrack([])))\n",
    "for combination in unique_combinations:\n",
    "    print(\"Combination:\")\n",
    "    for person in combination:\n",
    "        print(person)\n",
    "    print()"
   ]
  },
  {
   "cell_type": "code",
   "execution_count": null,
   "id": "e02f654e",
   "metadata": {},
   "outputs": [],
   "source": []
  }
 ],
 "metadata": {
  "kernelspec": {
   "display_name": "Python 3 (ipykernel)",
   "language": "python",
   "name": "python3"
  },
  "language_info": {
   "codemirror_mode": {
    "name": "ipython",
    "version": 3
   },
   "file_extension": ".py",
   "mimetype": "text/x-python",
   "name": "python",
   "nbconvert_exporter": "python",
   "pygments_lexer": "ipython3",
   "version": "3.10.9"
  }
 },
 "nbformat": 4,
 "nbformat_minor": 5
}
